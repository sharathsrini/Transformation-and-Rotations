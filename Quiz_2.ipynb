{
  "nbformat": 4,
  "nbformat_minor": 0,
  "metadata": {
    "colab": {
      "name": "Quiz-2",
      "version": "0.3.2",
      "provenance": [],
      "include_colab_link": true
    },
    "kernelspec": {
      "name": "python3",
      "display_name": "Python 3"
    }
  },
  "cells": [
    {
      "cell_type": "markdown",
      "metadata": {
        "id": "view-in-github",
        "colab_type": "text"
      },
      "source": [
        "<a href=\"https://colab.research.google.com/github/sharathsrini/Transformation-and-Rotations/blob/master/Quiz_2.ipynb\" target=\"_parent\"><img src=\"https://colab.research.google.com/assets/colab-badge.svg\" alt=\"Open In Colab\"/></a>"
      ]
    },
    {
      "metadata": {
        "id": "XxGrNIVr7JN3",
        "colab_type": "code",
        "colab": {}
      },
      "cell_type": "code",
      "source": [
        "import numpy as np\n",
        "import math"
      ],
      "execution_count": 0,
      "outputs": []
    },
    {
      "metadata": {
        "id": "HlQbiSWe7MSA",
        "colab_type": "code",
        "colab": {
          "base_uri": "https://localhost:8080/",
          "height": 141
        },
        "outputId": "4bb36b76-21b6-4745-bd75-83c646df2196"
      },
      "cell_type": "code",
      "source": [
        "# Question 1\n",
        "a = math.sqrt(2)/2\n",
        "A = np.matrix([[a, 0, a],[0, 1, 0], [-a, 0, a]])\n",
        "A_ = np.linalg.det(A)\n",
        "_A = np.linalg.inv(A)\n",
        "_A_ = np.transpose(A)\n",
        "print(A_)\n",
        "print(_A)\n",
        "print(_A_)"
      ],
      "execution_count": 21,
      "outputs": [
        {
          "output_type": "stream",
          "text": [
            "1.0000000000000002\n",
            "[[ 0.70710678  0.         -0.70710678]\n",
            " [ 0.          1.          0.        ]\n",
            " [ 0.70710678  0.          0.70710678]]\n",
            "[[ 0.70710678  0.         -0.70710678]\n",
            " [ 0.          1.          0.        ]\n",
            " [ 0.70710678  0.          0.70710678]]\n"
          ],
          "name": "stdout"
        }
      ]
    },
    {
      "metadata": {
        "id": "IJJzNbjf7Rui",
        "colab_type": "code",
        "outputId": "fa771139-99cc-46ec-e797-6e466c43c511",
        "colab": {
          "base_uri": "https://localhost:8080/",
          "height": 34
        }
      },
      "cell_type": "code",
      "source": [
        "A_"
      ],
      "execution_count": 0,
      "outputs": [
        {
          "output_type": "execute_result",
          "data": {
            "text/plain": [
              "1.0000000000000002"
            ]
          },
          "metadata": {
            "tags": []
          },
          "execution_count": 11
        }
      ]
    },
    {
      "metadata": {
        "id": "qA9mx9zs7TIm",
        "colab_type": "code",
        "outputId": "5ade227a-9935-4ec8-92fc-78abd66e9f44",
        "colab": {
          "base_uri": "https://localhost:8080/",
          "height": 70
        }
      },
      "cell_type": "code",
      "source": [
        "_A\n"
      ],
      "execution_count": 0,
      "outputs": [
        {
          "output_type": "execute_result",
          "data": {
            "text/plain": [
              "matrix([[ 0.70710678,  0.        , -0.70710678],\n",
              "        [ 0.        ,  1.        ,  0.        ],\n",
              "        [ 0.70710678,  0.        ,  0.70710678]])"
            ]
          },
          "metadata": {
            "tags": []
          },
          "execution_count": 12
        }
      ]
    },
    {
      "metadata": {
        "id": "g5IWbv1WAYcy",
        "colab_type": "code",
        "outputId": "22f5ab32-22c2-4806-b335-d227da578e68",
        "colab": {
          "base_uri": "https://localhost:8080/",
          "height": 141
        }
      },
      "cell_type": "code",
      "source": [
        "A = np.matrix([[0.3835, 0.5730, 0.9287], [0.5710, 0.5919, -0.4119], [-1.3954, 0.0217, 1.1105]])\n",
        "A_ = np.linalg.det(A)\n",
        "_A = np.linalg.inv(A)\n",
        "_A_ = np.transpose(A)\n",
        "print(A_)\n",
        "print(_A)\n",
        "print(_A_)"
      ],
      "execution_count": 20,
      "outputs": [
        {
          "output_type": "stream",
          "text": [
            "1.0000632084619998\n",
            "[[ 0.66620107 -0.61612477 -0.78566657]\n",
            " [-0.05932649  1.72167591  0.68820785]\n",
            " [ 0.83827497 -0.80783509 -0.10018302]]\n",
            "[[ 0.3835  0.571  -1.3954]\n",
            " [ 0.573   0.5919  0.0217]\n",
            " [ 0.9287 -0.4119  1.1105]]\n"
          ],
          "name": "stdout"
        }
      ]
    },
    {
      "metadata": {
        "id": "7Io_wBH1AgA1",
        "colab_type": "code",
        "outputId": "c91654af-c4d0-4e1f-f76e-858223734984",
        "colab": {
          "base_uri": "https://localhost:8080/",
          "height": 105
        }
      },
      "cell_type": "code",
      "source": [
        "A = np.matrix([[0.2120, 0.7743, 0.5963], [0.2120, -0.6321, 0.7454],[0.9540, -0.0316, -0.2981]])\n",
        "A_ = np.linalg.det(A)\n",
        "_A = np.linalg.inv(A)\n",
        "_A_ = np.transpose(A)\n",
        "print(A_, _A,_A_)"
      ],
      "execution_count": 18,
      "outputs": [
        {
          "output_type": "stream",
          "text": [
            "1.0000759581 [[ 0.21196755  0.21195965  0.95401199]\n",
            " [ 0.77424999 -0.63201939 -0.0316068 ]\n",
            " [ 0.59627891  0.74532479 -0.29813415]] [[ 0.212   0.212   0.954 ]\n",
            " [ 0.7743 -0.6321 -0.0316]\n",
            " [ 0.5963  0.7454 -0.2981]]\n"
          ],
          "name": "stdout"
        }
      ]
    },
    {
      "metadata": {
        "id": "NASBOeW4BLri",
        "colab_type": "code",
        "colab": {}
      },
      "cell_type": "code",
      "source": [
        ""
      ],
      "execution_count": 0,
      "outputs": []
    }
  ]
}